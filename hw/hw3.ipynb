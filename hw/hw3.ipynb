{
  "cells": [
    {
      "cell_type": "markdown",
      "id": "9e0808f9",
      "metadata": {
        "id": "9e0808f9"
      },
      "source": [
        "# CSCE 421 :: Machine Learning :: Texas A&M University\n",
        "\n",
        "# Programming Assignment\n",
        "**Name:**  Ayad Masud\n",
        "**UIN:**  733009045"
      ]
    },
    {
      "cell_type": "markdown",
      "id": "83d288b7",
      "metadata": {
        "id": "83d288b7"
      },
      "source": [
        "# Perceptron\n",
        "- **100 points**\n",
        "\n",
        "In this assignment, you'll be coding up the perceptron algorithm from scratch. Refer to the class slides for the weight update rule.  \n",
        "\n",
        "### Instructions\n",
        "- You are **NOT** allowed to use machine learning libraries such as scikit-learn to build a perceptron for this assignment.\n",
        "- You are required to complete the functions defined in the code blocks following each question. Fill out sections of the code marked `\"YOUR CODE HERE\"`.\n",
        "- You're free to add any number of methods within each class.\n",
        "- You may also add any number of additional code blocks that you deem necessary. \n",
        "- Once you've filled out your solutions, submit the notebook on Canvas following the instructions [here](https://people.engr.tamu.edu/guni/csce421/assignments.html).\n",
        "- Do **NOT** forget to type in your name and UIN at the beginning of the notebook."
      ]
    },
    {
      "cell_type": "markdown",
      "id": "60d4cbf2",
      "metadata": {
        "id": "60d4cbf2"
      },
      "source": [
        "## Question 1 (100 points)\n",
        "\n",
        "## Coding up a perceptron"
      ]
    },
    {
      "cell_type": "code",
      "execution_count": null,
      "id": "d6ec5352",
      "metadata": {
        "id": "d6ec5352",
        "scrolled": true
      },
      "outputs": [],
      "source": [
        "# Importing Libraries\n",
        "import time\n",
        "import numpy as np\n",
        "import pandas as pd\n",
        "import matplotlib.pyplot as plt\n",
        "%matplotlib inline"
      ]
    },
    {
      "cell_type": "markdown",
      "id": "d3a653c4",
      "metadata": {
        "id": "d3a653c4"
      },
      "source": [
        "**Complete the `Perceptron` class.**"
      ]
    },
    {
      "cell_type": "code",
      "execution_count": null,
      "id": "e215fa9a",
      "metadata": {
        "id": "e215fa9a",
        "scrolled": true
      },
      "outputs": [],
      "source": [
        "class Perceptron:\n",
        "    def __init__(self, epochs=3):\n",
        "        \"\"\"\n",
        "        Args:\n",
        "            epochs: number of training epochs\n",
        "        \"\"\"\n",
        "        self.epochs = epochs\n",
        "        self.misclassifications = 0\n",
        "        ## Add any other variables you need here\n",
        "        ## YOUR CODE HERE\n",
        "        \n",
        "    \n",
        "    def update_weights(self, features, true_label):\n",
        "        \"\"\"\n",
        "        The weight update rule. Iterates over each weight and updates it.\n",
        "        Increments self.misclassifications by 1 if there is a misclassification.\n",
        "\n",
        "        Args:\n",
        "            features: Dependent variables (x)\n",
        "            true_label: Target variable (y)\n",
        "        \"\"\"\n",
        "        ## YOUR CODE HERE\n",
        "        \n",
        "    \n",
        "    def train(self, features, true_labels, plotting=True):\n",
        "        \"\"\"\n",
        "        features: dependent variables (x)\n",
        "        true_labels: target variables (y)\n",
        "        plotting: plot the decision boundary (True by default)\n",
        "        \"\"\"\n",
        "        # Initialize the weights\n",
        "        ## YOUR CODE HERE\n",
        "        \n",
        "\n",
        "        # For each epoch\n",
        "        for epoch in range(self.epochs):\n",
        "            # Iterate over the training data\n",
        "            for i in range(len(features)):\n",
        "                \n",
        "                if plotting:\n",
        "                    print(\"Iteration {}, Misclassifications = {}\".\n",
        "                      format(epoch * len(features) + i+1, self.misclassifications))\n",
        "                    self.plot_classifier(features, true_labels, features[i])\n",
        "                \n",
        "                # Update the weights\n",
        "                ## YOUR CODE HERE\n",
        "                \n",
        "            print(\"=\"*25)\n",
        "            print(\"Epoch {}, Accuracy = {}\".format(epoch + 1, 1 - self.misclassifications/len(features)))\n",
        "            print(\"=\"*25)\n",
        "            self.misclassifications = 0\n",
        "            \n",
        "    def predict(self, features):\n",
        "        \"\"\"\n",
        "        Predict the label using self.weights.\n",
        "        \n",
        "        Args:\n",
        "            features: dependent variables (x)\n",
        "            \n",
        "        Returns:\n",
        "            The predicted label.\n",
        "        \"\"\"\n",
        "        ## YOUR CODE HERE\n",
        "        \n",
        "    \n",
        "    def plot_classifier(self, features, true_labels, data_point):\n",
        "        \"\"\"\n",
        "        Plot the decision boundary.\n",
        "        \n",
        "        Args:\n",
        "            features: dependent variables (x)\n",
        "            true_labels: target variables (y)\n",
        "            data_point: the current data point under consideration\n",
        "        \"\"\"\n",
        "        # Create a mesh to plot\n",
        "        x1_min, x1_max = features[:, 0].min() - 2, features[:, 0].max() + 2\n",
        "        x2_min, x2_max = features[:, 1].min() - 2, features[:, 1].max() + 2\n",
        "        x1x1, x2x2 = np.meshgrid(np.arange(x1_min, x1_max, 0.02),\n",
        "                             np.arange(x2_min, x2_max, 0.02))\n",
        "        \n",
        "        Z = np.zeros(x1x1.shape)\n",
        "        fig, ax = plt.subplots()\n",
        "        for i in range(len(x1x1)):\n",
        "            for j in range(len(x1x1[0])):\n",
        "                Z[i,j] = self.predict([x1x1[i,j], x2x2[i,j]])\n",
        "\n",
        "        # Put the result into a color plot\n",
        "        ax.contourf(x1x1, x2x2, Z, cmap='bwr', alpha=0.3)\n",
        "\n",
        "        # Plot the training points\n",
        "        plt.scatter(features[:, 0], features[:, 1], c=true_labels, cmap='bwr')\n",
        "        plt.plot(data_point[0], data_point[1], color='k', marker='x', markersize=12)\n",
        "\n",
        "        ax.set_title('Perceptron')\n",
        "\n",
        "        plt.show()"
      ]
    },
    {
      "cell_type": "markdown",
      "id": "3a4ec32b",
      "metadata": {
        "id": "3a4ec32b"
      },
      "source": [
        "**Below is a linearly separable toy dataset.**"
      ]
    },
    {
      "cell_type": "code",
      "execution_count": null,
      "id": "9996fc44",
      "metadata": {
        "id": "9996fc44",
        "scrolled": true
      },
      "outputs": [],
      "source": [
        "data = np.array([[2.7810836,2.550537003,-1],\n",
        "        [1.465489372,2.362125076,-1],\n",
        "        [3.396561688,4.400293529,-1],\n",
        "        [1.38807019,1.850220317,-1],\n",
        "        [3.06407232,3.005305973,-1],\n",
        "        [7.627531214,2.759262235,1],\n",
        "        [5.332441248,2.088626775,1],\n",
        "        [6.922596716,1.77106367,1],\n",
        "        [8.675418651,-0.242068655,1],\n",
        "        [7.673756466,3.508563011,1]])"
      ]
    },
    {
      "cell_type": "code",
      "execution_count": null,
      "id": "246cb90c",
      "metadata": {
        "id": "246cb90c",
        "outputId": "f84c00a8-be96-4c94-b9c8-b4791a087bf0"
      },
      "outputs": [
        {
          "data": {
            "image/png": "[encoded data removed]",
            "text/plain": [
              "<Figure size 432x288 with 1 Axes>"
            ]
          },
          "metadata": {
            "needs_background": "light"
          },
          "output_type": "display_data"
        }
      ],
      "source": [
        "plt.figure()\n",
        "plt.scatter(data[:, 0], data[:, 1], c=data[:, -1], cmap='bwr')\n",
        "plt.xlabel('Feature 1')\n",
        "plt.ylabel('Feature 2')\n",
        "plt.show()"
      ]
    },
    {
      "cell_type": "markdown",
      "id": "5375fb3b",
      "metadata": {
        "id": "5375fb3b"
      },
      "source": [
        "**Create a perceptron object.**"
      ]
    },
    {
      "cell_type": "code",
      "execution_count": null,
      "id": "847ba782",
      "metadata": {
        "id": "847ba782",
        "scrolled": true
      },
      "outputs": [],
      "source": [
        "## YOUR CODE HERE\n"
      ]
    },
    {
      "cell_type": "markdown",
      "id": "0b0630ba",
      "metadata": {
        "id": "0b0630ba"
      },
      "source": [
        "**Train the perceptron on `data`. The last column contains the labels.**  \n",
        "After 3 epochs, the classification accuracy of your perceptron should be 1.0."
      ]
    },
    {
      "cell_type": "code",
      "execution_count": null,
      "id": "3f84b173",
      "metadata": {
        "id": "3f84b173"
      },
      "outputs": [],
      "source": [
        "## YOUR CODE HERE\n"
      ]
    },
    {
      "cell_type": "code",
      "execution_count": null,
      "id": "1f567f2f",
      "metadata": {
        "id": "1f567f2f"
      },
      "outputs": [],
      "source": []
    }
  ],
  "metadata": {
    "colab": {
      "name": "pa1_perceptron.ipynb",
      "provenance": []
    },
    "kernelspec": {
      "display_name": "Python (Pyodide)",
      "language": "python",
      "name": "python"
    },
    "language_info": {
      "codemirror_mode": {
        "name": "python",
        "version": 3
      },
      "file_extension": ".py",
      "mimetype": "text/x-python",
      "name": "python",
      "nbconvert_exporter": "python",
      "pygments_lexer": "ipython3",
      "version": "3.8"
    }
  },
  "nbformat": 4,
  "nbformat_minor": 5
}
