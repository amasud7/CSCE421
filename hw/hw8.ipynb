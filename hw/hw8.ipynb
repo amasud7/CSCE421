{
 "cells": [
  {
   "cell_type": "markdown",
   "metadata": {},
   "source": [
    "# CSCE 421 :: Machine Learning :: Texas A&M University :: Fall 2021\n",
    "\n",
    "# Programming Assignment 5 (PA 5) + Competition\n",
    "**Name:**  Ayad Masud\n",
    "**UIN:**  733009045"
   ]
  },
  {
   "cell_type": "markdown",
   "metadata": {},
   "source": [
    "# Convolutional Neural Networks\n",
    "\n",
    "In this assignment, you'll be coding up a convolutional neural network from scratch to classify images using PyTorch.  \n",
    "\n",
    "### Instructions\n",
    "- Install PyTorch following the instructions [here](https://pytorch.org/).\n",
    "- Install the [`torchinfo` package](https://github.com/TylerYep/torchinfo) to visualize the network architecture and the number of parameters. The maximum number of parameters you are allowed to use for your network is **100,000**. \n",
    "- You are required to complete the functions defined in the code blocks following each question. Fill out sections of the code marked `\"YOUR CODE HERE\"`.\n",
    "- You're free to add any number of methods within each class.\n",
    "- You may also add any number of additional code blocks that you deem necessary. \n",
    "- Once you've filled out your solutions, submit the notebook on Canvas following the instructions [here](https://people.engr.tamu.edu/guni/csce421/assignments.html).\n",
    "- Do **NOT** forget to type in your name and UIN at the beginning of the notebook."
   ]
  },
  {
   "cell_type": "markdown",
   "metadata": {},
   "source": [
    "## Data Preparation"
   ]
  },
  {
   "cell_type": "code",
   "execution_count": 2,
   "metadata": {},
   "outputs": [],
   "source": [
    "# Importing the libraries\n",
    "import os\n",
    "import torch\n",
    "import torchvision\n",
    "from torchvision.utils import make_grid\n",
    "\n",
    "import numpy as np"
   ]
  },
  {
   "cell_type": "markdown",
   "metadata": {},
   "source": [
    "In this assignment, we will use the Fashion-MNIST dataset. Fashion-MNIST is a dataset of Zalando's article images—consisting of a training set of 60,000 examples and a test set of 10,000 examples. Each example is a 28x28 grayscale image, associated with a label from 10 classes.  \n",
    "\n",
    "### Data\n",
    "\n",
    "Each image is 28 pixels in height and 28 pixels in width, for a total of 784 pixels in total. Each pixel has a single pixel-value associated with it, indicating the lightness or darkness of that pixel, with higher numbers meaning darker. This pixel-value is an integer between 0 and 255.  \n",
    "\n",
    "### Labels\n",
    "\n",
    "Each training and test example is assigned to one of the following labels:\n",
    "\n",
    "| Label | Description |\n",
    "|-------|-------------|\n",
    "| 0     | T-shirt/top |\n",
    "| 1     | Trouser     |\n",
    "| 2     | Pullover    |\n",
    "| 3     | Dress       |\n",
    "| 4     | Coat        |\n",
    "| 5     | Sandal      |\n",
    "| 6     | Shirt       |\n",
    "| 7     | Sneaker     |\n",
    "| 8     | Bag         |\n",
    "| 9     | Ankle boot  |\n",
    "\n",
    "Fashion-MNIST is included in the `torchvision` library."
   ]
  },
  {
   "cell_type": "code",
   "execution_count": 3,
   "metadata": {},
   "outputs": [],
   "source": [
    "from torchvision.datasets import FashionMNIST\n",
    "from torchvision.transforms import Compose, ToTensor, Normalize"
   ]
  },
  {
   "cell_type": "code",
   "execution_count": 4,
   "metadata": {},
   "outputs": [
    {
     "name": "stdout",
     "output_type": "stream",
     "text": [
      "Downloading http://fashion-mnist.s3-website.eu-central-1.amazonaws.com/train-images-idx3-ubyte.gz\n",
      "Downloading http://fashion-mnist.s3-website.eu-central-1.amazonaws.com/train-images-idx3-ubyte.gz to MNIST_data/FashionMNIST/raw/train-images-idx3-ubyte.gz\n"
     ]
    },
    {
     "name": "stderr",
     "output_type": "stream",
     "text": [
      "100%|██████████| 26421880/26421880 [00:02<00:00, 13118544.47it/s]\n"
     ]
    },
    {
     "name": "stdout",
     "output_type": "stream",
     "text": [
      "Extracting MNIST_data/FashionMNIST/raw/train-images-idx3-ubyte.gz to MNIST_data/FashionMNIST/raw\n",
      "\n",
      "Downloading http://fashion-mnist.s3-website.eu-central-1.amazonaws.com/train-labels-idx1-ubyte.gz\n",
      "Downloading http://fashion-mnist.s3-website.eu-central-1.amazonaws.com/train-labels-idx1-ubyte.gz to MNIST_data/FashionMNIST/raw/train-labels-idx1-ubyte.gz\n"
     ]
    },
    {
     "name": "stderr",
     "output_type": "stream",
     "text": [
      "100%|██████████| 29515/29515 [00:00<00:00, 223151.55it/s]\n"
     ]
    },
    {
     "name": "stdout",
     "output_type": "stream",
     "text": [
      "Extracting MNIST_data/FashionMNIST/raw/train-labels-idx1-ubyte.gz to MNIST_data/FashionMNIST/raw\n",
      "\n",
      "Downloading http://fashion-mnist.s3-website.eu-central-1.amazonaws.com/t10k-images-idx3-ubyte.gz\n",
      "Downloading http://fashion-mnist.s3-website.eu-central-1.amazonaws.com/t10k-images-idx3-ubyte.gz to MNIST_data/FashionMNIST/raw/t10k-images-idx3-ubyte.gz\n"
     ]
    },
    {
     "name": "stderr",
     "output_type": "stream",
     "text": [
      "100%|██████████| 4422102/4422102 [00:01<00:00, 3664399.48it/s]\n"
     ]
    },
    {
     "name": "stdout",
     "output_type": "stream",
     "text": [
      "Extracting MNIST_data/FashionMNIST/raw/t10k-images-idx3-ubyte.gz to MNIST_data/FashionMNIST/raw\n",
      "\n",
      "Downloading http://fashion-mnist.s3-website.eu-central-1.amazonaws.com/t10k-labels-idx1-ubyte.gz\n",
      "Downloading http://fashion-mnist.s3-website.eu-central-1.amazonaws.com/t10k-labels-idx1-ubyte.gz to MNIST_data/FashionMNIST/raw/t10k-labels-idx1-ubyte.gz\n"
     ]
    },
    {
     "name": "stderr",
     "output_type": "stream",
     "text": [
      "100%|██████████| 5148/5148 [00:00<00:00, 2898681.30it/s]"
     ]
    },
    {
     "name": "stdout",
     "output_type": "stream",
     "text": [
      "Extracting MNIST_data/FashionMNIST/raw/t10k-labels-idx1-ubyte.gz to MNIST_data/FashionMNIST/raw\n",
      "\n"
     ]
    },
    {
     "name": "stderr",
     "output_type": "stream",
     "text": [
      "\n"
     ]
    }
   ],
   "source": [
    "# Transform to normalize the data and convert to a tensor\n",
    "transform = Compose([ToTensor(),\n",
    "    Normalize((0.5,), (0.5,))\n",
    "    ])\n",
    "\n",
    "# Download the data\n",
    "dataset = FashionMNIST('MNIST_data/', download = True, train = True, transform = transform)"
   ]
  },
  {
   "cell_type": "markdown",
   "metadata": {},
   "source": [
    "**NOTE:** You may add more operations to `Compose` if you're performing data augmentation."
   ]
  },
  {
   "cell_type": "markdown",
   "metadata": {},
   "source": [
    "## Data Exploration"
   ]
  },
  {
   "cell_type": "markdown",
   "metadata": {},
   "source": [
    "Let's take a look at the classes in our dataset."
   ]
  },
  {
   "cell_type": "code",
   "execution_count": 5,
   "metadata": {},
   "outputs": [
    {
     "name": "stdout",
     "output_type": "stream",
     "text": [
      "['T-shirt/top', 'Trouser', 'Pullover', 'Dress', 'Coat', 'Sandal', 'Shirt', 'Sneaker', 'Bag', 'Ankle boot']\n"
     ]
    }
   ],
   "source": [
    "print(dataset.classes)"
   ]
  },
  {
   "cell_type": "code",
   "execution_count": 6,
   "metadata": {},
   "outputs": [],
   "source": [
    "import matplotlib.pyplot as plt\n",
    "\n",
    "def show_example(img, label):\n",
    "    print('Label: {} ({})'.format(dataset.classes[label], label))\n",
    "    plt.imshow(img.squeeze(), cmap='Greys_r')\n",
    "    plt.axis(False)"
   ]
  },
  {
   "cell_type": "code",
   "execution_count": 7,
   "metadata": {},
   "outputs": [
    {
     "name": "stdout",
     "output_type": "stream",
     "text": [
      "Label: Dress (3)\n"
     ]
    },
    {
     "data": {
      "image/png": "[encoded data removed]",
      "text/plain": [
       "<Figure size 640x480 with 1 Axes>"
      ]
     },
     "metadata": {},
     "output_type": "display_data"
    }
   ],
   "source": [
    "show_example(*dataset[20])"
   ]
  },
  {
   "cell_type": "code",
   "execution_count": 8,
   "metadata": {},
   "outputs": [
    {
     "name": "stdout",
     "output_type": "stream",
     "text": [
      "Label: Sneaker (7)\n"
     ]
    },
    {
     "data": {
      "image/png": "[encoded data removed]",
      "text/plain": [
       "<Figure size 640x480 with 1 Axes>"
      ]
     },
     "metadata": {},
     "output_type": "display_data"
    }
   ],
   "source": [
    "show_example(*dataset[20000])"
   ]
  },
  {
   "cell_type": "markdown",
   "metadata": {},
   "source": [
    "## Question 1 (10 points)\n",
    "\n",
    "## Creating Training and Validation Datasets"
   ]
  },
  {
   "cell_type": "markdown",
   "metadata": {},
   "source": [
    "The `split_indices` function takes in the size of the entire dataset, `n`, the fraction of data to be used as validation set, `val_frac`, and the random seed and returns the indices of the data points to be added to the validation dataset.  \n",
    "\n",
    "**Choose a suitable fraction for your validation set and experiment with the seed. Remember that the better your validation set, the higher the chances that your model would do well on the test set.**"
   ]
  },
  {
   "cell_type": "code",
   "execution_count": 9,
   "metadata": {},
   "outputs": [],
   "source": [
    "def split_indices(n, val_frac, seed):\n",
    "    # Determine the size of the validation set\n",
    "    n_val = int(val_frac * n)\n",
    "    np.random.seed(seed)\n",
    "    # Create random permutation between 0 to n-1\n",
    "    idxs = np.random.permutation(n)\n",
    "    # Pick first n_val indices for validation set\n",
    "    return idxs[n_val:], idxs[:n_val]"
   ]
  },
  {
   "cell_type": "code",
   "execution_count": 10,
   "metadata": {},
   "outputs": [
    {
     "name": "stdout",
     "output_type": "stream",
     "text": [
      "#samples in training set: 48000\n",
      "#samples in validation set: 12000\n"
     ]
    }
   ],
   "source": [
    "val_frac = 0.2  # Use 20% of data for validation\n",
    "rand_seed = 42  # Standard random seed that works well for reproducibility\n",
    "\n",
    "train_indices, val_indices = split_indices(len(dataset), val_frac, rand_seed)\n",
    "print(\"#samples in training set: {}\".format(len(train_indices)))\n",
    "print(\"#samples in validation set: {}\".format(len(val_indices)))\n"
   ]
  },
  {
   "cell_type": "markdown",
   "metadata": {},
   "source": [
    "Next, we make use of the built-in dataloaders in PyTorch to create iterables of our our training and validation sets. This helps in avoiding fitting the whole dataset into memory and only loads a batch of the data that we can decide. \n",
    "\n",
    "**Set the `batch_size` depending on the hardware resource (GPU/CPU RAM) you are using for the assignment.**"
   ]
  },
  {
   "cell_type": "code",
   "execution_count": 11,
   "metadata": {},
   "outputs": [],
   "source": [
    "from torch.utils.data.sampler import SubsetRandomSampler\n",
    "from torch.utils.data.dataloader import DataLoader"
   ]
  },
  {
   "cell_type": "code",
   "execution_count": 14,
   "metadata": {},
   "outputs": [],
   "source": [
    "# Set the batch size based on available hardware resources\n",
    "batch_size = 64  # Standard batch size that works well for most hardware setups\n"
   ]
  },
  {
   "cell_type": "code",
   "execution_count": 15,
   "metadata": {},
   "outputs": [],
   "source": [
    "# Training sampler and data loader\n",
    "train_sampler = SubsetRandomSampler(train_indices)\n",
    "train_dl = DataLoader(dataset,\n",
    "                     batch_size,\n",
    "                     sampler=train_sampler)\n",
    "\n",
    "# Validation sampler and data loader\n",
    "val_sampler = SubsetRandomSampler(val_indices)\n",
    "val_dl = DataLoader(dataset,\n",
    "                   batch_size,\n",
    "                   sampler=val_sampler)"
   ]
  },
  {
   "cell_type": "markdown",
   "metadata": {},
   "source": [
    "Plot images in a sample batch of data."
   ]
  },
  {
   "cell_type": "code",
   "execution_count": 16,
   "metadata": {},
   "outputs": [],
   "source": [
    "def show_batch(dl):\n",
    "    for images, labels in dl:\n",
    "        fig, ax = plt.subplots(figsize=(10,10))\n",
    "        ax.set_xticks([]); ax.set_yticks([])\n",
    "        ax.imshow(make_grid(images, 8).permute(1, 2, 0), cmap='Greys_r')\n",
    "        break"
   ]
  },
  {
   "cell_type": "code",
   "execution_count": 17,
   "metadata": {},
   "outputs": [
    {
     "name": "stderr",
     "output_type": "stream",
     "text": [
      "Clipping input data to the valid range for imshow with RGB data ([0..1] for floats or [0..255] for integers).\n"
     ]
    },
    {
     "data": {
      "image/png": "[encoded data removed]",
      "text/plain": [
       "<Figure size 1000x1000 with 1 Axes>"
      ]
     },
     "metadata": {},
     "output_type": "display_data"
    }
   ],
   "source": [
    "show_batch(train_dl)"
   ]
  },
  {
   "cell_type": "markdown",
   "metadata": {},
   "source": [
    "## Question 2 (40 points)\n",
    "\n",
    "## Building the Model"
   ]
  },
  {
   "cell_type": "markdown",
   "metadata": {},
   "source": [
    "**Create your model by defining the network architecture in the `ImageClassifierNet` class.**  \n",
    "**NOTE:** The number of parameters in your network must be $\\leq$ 100,000."
   ]
  },
  {
   "cell_type": "code",
   "execution_count": 19,
   "metadata": {},
   "outputs": [
    {
     "name": "stdout",
     "output_type": "stream",
     "text": [
      "Note: you may need to restart the kernel to use updated packages.\n"
     ]
    }
   ],
   "source": [
    "# Import the libraries\n",
    "import torch.nn as nn\n",
    "import torch.nn.functional as F\n",
    "\n",
    "# Install torchinfo if not already installed\n",
    "%pip install torchinfo -q\n",
    "\n",
    "from torchinfo import summary"
   ]
  },
  {
   "cell_type": "code",
   "execution_count": 27,
   "metadata": {},
   "outputs": [],
   "source": [
    "class ImageClassifierNet(nn.Module):\n",
    "    def __init__(self, n_channels=1):\n",
    "        super(ImageClassifierNet, self).__init__()\n",
    "        \n",
    "        # First convolutional block - reduced filters\n",
    "        self.conv1 = nn.Conv2d(n_channels, 16, kernel_size=3, padding=1)\n",
    "        self.bn1 = nn.BatchNorm2d(16)\n",
    "        self.pool1 = nn.MaxPool2d(2, 2)\n",
    "        \n",
    "        # Second convolutional block - reduced filters\n",
    "        self.conv2 = nn.Conv2d(16, 32, kernel_size=3, padding=1)\n",
    "        self.bn2 = nn.BatchNorm2d(32)\n",
    "        self.pool2 = nn.MaxPool2d(2, 2)\n",
    "        \n",
    "        # Fully connected layers - further reduced size\n",
    "        # After 2 max-pooling layers, the image size is reduced to 7x7\n",
    "        self.fc1 = nn.Linear(32 * 7 * 7, 50)  # Reduced from 64 to 50\n",
    "        self.dropout = nn.Dropout(0.5)\n",
    "        self.fc2 = nn.Linear(50, 10)  # 10 classes in Fashion MNIST\n",
    "        \n",
    "    def forward(self, X):\n",
    "        # First block\n",
    "        X = self.pool1(F.relu(self.bn1(self.conv1(X))))\n",
    "        \n",
    "        # Second block\n",
    "        X = self.pool2(F.relu(self.bn2(self.conv2(X))))\n",
    "        \n",
    "        # Flatten\n",
    "        X = X.view(X.size(0), -1)\n",
    "        \n",
    "        # Fully connected layers\n",
    "        X = F.relu(self.fc1(X))\n",
    "        X = self.dropout(X)\n",
    "        X = self.fc2(X)\n",
    "        \n",
    "        return X\n"
   ]
  },
  {
   "cell_type": "code",
   "execution_count": 28,
   "metadata": {},
   "outputs": [],
   "source": [
    "model = ImageClassifierNet()"
   ]
  },
  {
   "cell_type": "markdown",
   "metadata": {},
   "source": [
    "The following code block prints your network architecture. It also shows the total number of parameters in your network (see `Total params`).  \n",
    "\n",
    "**NOTE: The total number of parameters in your model should be <= 100,000.**"
   ]
  },
  {
   "cell_type": "code",
   "execution_count": 29,
   "metadata": {},
   "outputs": [
    {
     "data": {
      "text/plain": [
       "==========================================================================================\n",
       "Layer (type:depth-idx)                   Output Shape              Param #\n",
       "==========================================================================================\n",
       "ImageClassifierNet                       [64, 10]                  --\n",
       "├─Conv2d: 1-1                            [64, 16, 28, 28]          160\n",
       "├─BatchNorm2d: 1-2                       [64, 16, 28, 28]          32\n",
       "├─MaxPool2d: 1-3                         [64, 16, 14, 14]          --\n",
       "├─Conv2d: 1-4                            [64, 32, 14, 14]          4,640\n",
       "├─BatchNorm2d: 1-5                       [64, 32, 14, 14]          64\n",
       "├─MaxPool2d: 1-6                         [64, 32, 7, 7]            --\n",
       "├─Linear: 1-7                            [64, 50]                  78,450\n",
       "├─Dropout: 1-8                           [64, 50]                  --\n",
       "├─Linear: 1-9                            [64, 10]                  510\n",
       "==========================================================================================\n",
       "Total params: 83,856\n",
       "Trainable params: 83,856\n",
       "Non-trainable params: 0\n",
       "Total mult-adds (Units.MEGABYTES): 71.29\n",
       "==========================================================================================\n",
       "Input size (MB): 0.20\n",
       "Forward/backward pass size (MB): 19.30\n",
       "Params size (MB): 0.34\n",
       "Estimated Total Size (MB): 19.83\n",
       "=========================================================================================="
      ]
     },
     "execution_count": 29,
     "metadata": {},
     "output_type": "execute_result"
    }
   ],
   "source": [
    "summary(model, input_size=(batch_size, 1, 28, 28))"
   ]
  },
  {
   "cell_type": "markdown",
   "metadata": {},
   "source": [
    "## Enable training on a GPU"
   ]
  },
  {
   "cell_type": "markdown",
   "metadata": {},
   "source": [
    "**NOTE:** This section is necessary if you're training your model on a GPU."
   ]
  },
  {
   "cell_type": "code",
   "execution_count": 30,
   "metadata": {},
   "outputs": [],
   "source": [
    "def get_default_device():\n",
    "    \"\"\"Use GPU if available, else CPU\"\"\"\n",
    "    if torch.cuda.is_available():\n",
    "        return torch.device('cuda')\n",
    "    else:\n",
    "        return torch.device('cpu')\n",
    "\n",
    "def to_device(data, device):\n",
    "    \"\"\"Move tensor(s) to chosen device\"\"\"\n",
    "    if isinstance(data, (list,tuple)):\n",
    "        return [to_device(x, device) for x in data]\n",
    "    return data.to(device, non_blocking=True)\n",
    "\n",
    "class DeviceDataLoader():\n",
    "    \"\"\"Wrap a dataloader to move data to a device\"\"\"\n",
    "    def __init__(self, dl, device):\n",
    "        self.dl = dl\n",
    "        self.device = device\n",
    "    \n",
    "    def __iter__(self):\n",
    "        \"\"\"Yield a batch of data after moving it to device\"\"\"\n",
    "        for b in self.dl:\n",
    "            yield to_device(b, self.device)\n",
    "    \n",
    "    def __len__(self):\n",
    "        \"\"\"Number of batches\"\"\"\n",
    "        return len(self.dl)"
   ]
  },
  {
   "cell_type": "code",
   "execution_count": 31,
   "metadata": {},
   "outputs": [
    {
     "data": {
      "text/plain": [
       "ImageClassifierNet(\n",
       "  (conv1): Conv2d(1, 16, kernel_size=(3, 3), stride=(1, 1), padding=(1, 1))\n",
       "  (bn1): BatchNorm2d(16, eps=1e-05, momentum=0.1, affine=True, track_running_stats=True)\n",
       "  (pool1): MaxPool2d(kernel_size=2, stride=2, padding=0, dilation=1, ceil_mode=False)\n",
       "  (conv2): Conv2d(16, 32, kernel_size=(3, 3), stride=(1, 1), padding=(1, 1))\n",
       "  (bn2): BatchNorm2d(32, eps=1e-05, momentum=0.1, affine=True, track_running_stats=True)\n",
       "  (pool2): MaxPool2d(kernel_size=2, stride=2, padding=0, dilation=1, ceil_mode=False)\n",
       "  (fc1): Linear(in_features=1568, out_features=50, bias=True)\n",
       "  (dropout): Dropout(p=0.5, inplace=False)\n",
       "  (fc2): Linear(in_features=50, out_features=10, bias=True)\n",
       ")"
      ]
     },
     "execution_count": 31,
     "metadata": {},
     "output_type": "execute_result"
    }
   ],
   "source": [
    "device = get_default_device()\n",
    "\n",
    "train_dl = DeviceDataLoader(train_dl, device)\n",
    "val_dl = DeviceDataLoader(val_dl, device)\n",
    "\n",
    "to_device(model, device)"
   ]
  },
  {
   "cell_type": "markdown",
   "metadata": {},
   "source": [
    "## Question 3 (40 points)\n",
    "\n",
    "## Train the model"
   ]
  },
  {
   "cell_type": "markdown",
   "metadata": {},
   "source": [
    "**Complete the `train_model` function to train your model on a dataset. Tune your network architecture and hyperparameters on the validation set.**"
   ]
  },
  {
   "cell_type": "code",
   "execution_count": 32,
   "metadata": {},
   "outputs": [],
   "source": [
    "def train_model(n_epochs, model, train_dl, val_dl, loss_fn, opt_fn, lr):\n",
    "    \"\"\"\n",
    "    Trains the model on a dataset.\n",
    "    \n",
    "    Args:\n",
    "        n_epochs: number of epochs\n",
    "        model: ImageClassifierNet object\n",
    "        train_dl: training dataloader\n",
    "        val_dl: validation dataloader\n",
    "        loss_fn: the loss function\n",
    "        opt_fn: the optimizer\n",
    "        lr: learning rate\n",
    "    \n",
    "    Returns:\n",
    "        The trained model. \n",
    "        A tuple of (model, train_losses, val_losses, train_accuracies, val_accuracies)\n",
    "    \"\"\"\n",
    "    # Record these values the end of each epoch\n",
    "    train_losses, val_losses, train_accuracies, val_accuracies = [], [], [], []\n",
    "    \n",
    "    # Initialize the optimizer\n",
    "    optimizer = opt_fn(model.parameters(), lr=lr)\n",
    "    \n",
    "    for epoch in range(n_epochs):\n",
    "        # Training phase\n",
    "        model.train()\n",
    "        train_loss = 0\n",
    "        correct = 0\n",
    "        total = 0\n",
    "        \n",
    "        for batch_idx, (images, labels) in enumerate(train_dl):\n",
    "            # Forward pass\n",
    "            outputs = model(images)\n",
    "            loss = loss_fn(outputs, labels)\n",
    "            \n",
    "            # Backward pass and optimize\n",
    "            optimizer.zero_grad()\n",
    "            loss.backward()\n",
    "            optimizer.step()\n",
    "            \n",
    "            # Track loss and accuracy\n",
    "            train_loss += loss.item()\n",
    "            _, predicted = outputs.max(1)\n",
    "            total += labels.size(0)\n",
    "            correct += predicted.eq(labels).sum().item()\n",
    "            \n",
    "            # Print progress\n",
    "            if batch_idx % 100 == 0:\n",
    "                print(f'Epoch: {epoch+1}/{n_epochs}, Batch: {batch_idx}/{len(train_dl)}, Loss: {loss.item():.4f}')\n",
    "        \n",
    "        # Calculate average training metrics for the epoch\n",
    "        avg_train_loss = train_loss / len(train_dl)\n",
    "        train_accuracy = correct / total\n",
    "        train_losses.append(avg_train_loss)\n",
    "        train_accuracies.append(train_accuracy)\n",
    "        \n",
    "        # Validation phase (if validation data is provided)\n",
    "        if len(val_dl) > 0:\n",
    "            model.eval()\n",
    "            val_loss = 0\n",
    "            correct = 0\n",
    "            total = 0\n",
    "            \n",
    "            with torch.no_grad():\n",
    "                for images, labels in val_dl:\n",
    "                    outputs = model(images)\n",
    "                    loss = loss_fn(outputs, labels)\n",
    "                    \n",
    "                    val_loss += loss.item()\n",
    "                    _, predicted = outputs.max(1)\n",
    "                    total += labels.size(0)\n",
    "                    correct += predicted.eq(labels).sum().item()\n",
    "            \n",
    "            # Calculate average validation metrics\n",
    "            avg_val_loss = val_loss / len(val_dl)\n",
    "            val_accuracy = correct / total\n",
    "            val_losses.append(avg_val_loss)\n",
    "            val_accuracies.append(val_accuracy)\n",
    "            \n",
    "            print(f'Epoch {epoch+1}/{n_epochs}, Train Loss: {avg_train_loss:.4f}, Train Acc: {train_accuracy:.4f}, Val Loss: {avg_val_loss:.4f}, Val Acc: {val_accuracy:.4f}')\n",
    "        else:\n",
    "            print(f'Epoch {epoch+1}/{n_epochs}, Train Loss: {avg_train_loss:.4f}, Train Acc: {train_accuracy:.4f}')\n",
    "    \n",
    "    return model, train_losses, val_losses, train_accuracies, val_accuracies"
   ]
  },
  {
   "cell_type": "markdown",
   "metadata": {},
   "source": [
    "**Set the maximum number of training epochs, the loss function, the optimizer, and the learning rate.**"
   ]
  },
  {
   "cell_type": "code",
   "execution_count": 33,
   "metadata": {},
   "outputs": [],
   "source": [
    "import torch.optim as optim\n",
    "\n",
    "# Standard values for training the model\n",
    "num_epochs = 10  # Max number of training epochs\n",
    "loss_fn = nn.CrossEntropyLoss()  # Standard loss function for classification tasks\n",
    "opt_fn = optim.Adam  # Adam optimizer typically works well for CNNs\n",
    "lr = 0.001  # Standard learning rate for Adam optimizer"
   ]
  },
  {
   "cell_type": "code",
   "execution_count": 34,
   "metadata": {},
   "outputs": [
    {
     "name": "stdout",
     "output_type": "stream",
     "text": [
      "Epoch: 1/10, Batch: 0/750, Loss: 2.3764\n",
      "Epoch: 1/10, Batch: 100/750, Loss: 0.7478\n",
      "Epoch: 1/10, Batch: 200/750, Loss: 0.6516\n",
      "Epoch: 1/10, Batch: 300/750, Loss: 0.8996\n",
      "Epoch: 1/10, Batch: 400/750, Loss: 0.5218\n",
      "Epoch: 1/10, Batch: 500/750, Loss: 0.6532\n",
      "Epoch: 1/10, Batch: 600/750, Loss: 0.4972\n",
      "Epoch: 1/10, Batch: 700/750, Loss: 0.3668\n",
      "Epoch 1/10, Train Loss: 0.7305, Train Acc: 0.7277, Val Loss: 0.3747, Val Acc: 0.8645\n",
      "Epoch: 2/10, Batch: 0/750, Loss: 0.6157\n",
      "Epoch: 2/10, Batch: 100/750, Loss: 0.5253\n",
      "Epoch: 2/10, Batch: 200/750, Loss: 0.4360\n",
      "Epoch: 2/10, Batch: 300/750, Loss: 0.4420\n",
      "Epoch: 2/10, Batch: 400/750, Loss: 0.4793\n",
      "Epoch: 2/10, Batch: 500/750, Loss: 0.5572\n",
      "Epoch: 2/10, Batch: 600/750, Loss: 0.6899\n",
      "Epoch: 2/10, Batch: 700/750, Loss: 0.5185\n",
      "Epoch 2/10, Train Loss: 0.5365, Train Acc: 0.7947, Val Loss: 0.3252, Val Acc: 0.8817\n",
      "Epoch: 3/10, Batch: 0/750, Loss: 0.4632\n",
      "Epoch: 3/10, Batch: 100/750, Loss: 0.4898\n",
      "Epoch: 3/10, Batch: 200/750, Loss: 0.5532\n",
      "Epoch: 3/10, Batch: 300/750, Loss: 0.4883\n",
      "Epoch: 3/10, Batch: 400/750, Loss: 0.5430\n",
      "Epoch: 3/10, Batch: 500/750, Loss: 0.3901\n",
      "Epoch: 3/10, Batch: 600/750, Loss: 0.4877\n",
      "Epoch: 3/10, Batch: 700/750, Loss: 0.4395\n",
      "Epoch 3/10, Train Loss: 0.4911, Train Acc: 0.8142, Val Loss: 0.3011, Val Acc: 0.8888\n",
      "Epoch: 4/10, Batch: 0/750, Loss: 0.3620\n",
      "Epoch: 4/10, Batch: 100/750, Loss: 0.4855\n",
      "Epoch: 4/10, Batch: 200/750, Loss: 0.4504\n",
      "Epoch: 4/10, Batch: 300/750, Loss: 0.4259\n",
      "Epoch: 4/10, Batch: 400/750, Loss: 0.5133\n",
      "Epoch: 4/10, Batch: 500/750, Loss: 0.4626\n",
      "Epoch: 4/10, Batch: 600/750, Loss: 0.4785\n",
      "Epoch: 4/10, Batch: 700/750, Loss: 0.4472\n",
      "Epoch 4/10, Train Loss: 0.4575, Train Acc: 0.8261, Val Loss: 0.2940, Val Acc: 0.8912\n",
      "Epoch: 5/10, Batch: 0/750, Loss: 0.5194\n",
      "Epoch: 5/10, Batch: 100/750, Loss: 0.3233\n",
      "Epoch: 5/10, Batch: 200/750, Loss: 0.4221\n",
      "Epoch: 5/10, Batch: 300/750, Loss: 0.4900\n",
      "Epoch: 5/10, Batch: 400/750, Loss: 0.3788\n",
      "Epoch: 5/10, Batch: 500/750, Loss: 0.5298\n",
      "Epoch: 5/10, Batch: 600/750, Loss: 0.5016\n",
      "Epoch: 5/10, Batch: 700/750, Loss: 0.2563\n",
      "Epoch 5/10, Train Loss: 0.4300, Train Acc: 0.8368, Val Loss: 0.2808, Val Acc: 0.8991\n",
      "Epoch: 6/10, Batch: 0/750, Loss: 0.3535\n",
      "Epoch: 6/10, Batch: 100/750, Loss: 0.5220\n",
      "Epoch: 6/10, Batch: 200/750, Loss: 0.5129\n",
      "Epoch: 6/10, Batch: 300/750, Loss: 0.4765\n",
      "Epoch: 6/10, Batch: 400/750, Loss: 0.3781\n",
      "Epoch: 6/10, Batch: 500/750, Loss: 0.3025\n",
      "Epoch: 6/10, Batch: 600/750, Loss: 0.3441\n",
      "Epoch: 6/10, Batch: 700/750, Loss: 0.2986\n",
      "Epoch 6/10, Train Loss: 0.4175, Train Acc: 0.8401, Val Loss: 0.2664, Val Acc: 0.9042\n",
      "Epoch: 7/10, Batch: 0/750, Loss: 0.3445\n",
      "Epoch: 7/10, Batch: 100/750, Loss: 0.4724\n",
      "Epoch: 7/10, Batch: 200/750, Loss: 0.4027\n",
      "Epoch: 7/10, Batch: 300/750, Loss: 0.6315\n",
      "Epoch: 7/10, Batch: 400/750, Loss: 0.2934\n",
      "Epoch: 7/10, Batch: 500/750, Loss: 0.2824\n",
      "Epoch: 7/10, Batch: 600/750, Loss: 0.4078\n",
      "Epoch: 7/10, Batch: 700/750, Loss: 0.5848\n",
      "Epoch 7/10, Train Loss: 0.4024, Train Acc: 0.8459, Val Loss: 0.2579, Val Acc: 0.9061\n",
      "Epoch: 8/10, Batch: 0/750, Loss: 0.2634\n",
      "Epoch: 8/10, Batch: 100/750, Loss: 0.2089\n",
      "Epoch: 8/10, Batch: 200/750, Loss: 0.3317\n",
      "Epoch: 8/10, Batch: 300/750, Loss: 0.4412\n",
      "Epoch: 8/10, Batch: 400/750, Loss: 0.5859\n",
      "Epoch: 8/10, Batch: 500/750, Loss: 0.3766\n",
      "Epoch: 8/10, Batch: 600/750, Loss: 0.3540\n",
      "Epoch: 8/10, Batch: 700/750, Loss: 0.3612\n",
      "Epoch 8/10, Train Loss: 0.3886, Train Acc: 0.8501, Val Loss: 0.2601, Val Acc: 0.9012\n",
      "Epoch: 9/10, Batch: 0/750, Loss: 0.3501\n",
      "Epoch: 9/10, Batch: 100/750, Loss: 0.5489\n",
      "Epoch: 9/10, Batch: 200/750, Loss: 0.4703\n",
      "Epoch: 9/10, Batch: 300/750, Loss: 0.2627\n",
      "Epoch: 9/10, Batch: 400/750, Loss: 0.4569\n",
      "Epoch: 9/10, Batch: 500/750, Loss: 0.4592\n",
      "Epoch: 9/10, Batch: 600/750, Loss: 0.3788\n",
      "Epoch: 9/10, Batch: 700/750, Loss: 0.1966\n",
      "Epoch 9/10, Train Loss: 0.3808, Train Acc: 0.8523, Val Loss: 0.2603, Val Acc: 0.9048\n",
      "Epoch: 10/10, Batch: 0/750, Loss: 0.2645\n",
      "Epoch: 10/10, Batch: 100/750, Loss: 0.4604\n",
      "Epoch: 10/10, Batch: 200/750, Loss: 0.2527\n",
      "Epoch: 10/10, Batch: 300/750, Loss: 0.2029\n",
      "Epoch: 10/10, Batch: 400/750, Loss: 0.2589\n",
      "Epoch: 10/10, Batch: 500/750, Loss: 0.4297\n",
      "Epoch: 10/10, Batch: 600/750, Loss: 0.2230\n",
      "Epoch: 10/10, Batch: 700/750, Loss: 0.2987\n",
      "Epoch 10/10, Train Loss: 0.3689, Train Acc: 0.8582, Val Loss: 0.2428, Val Acc: 0.9115\n"
     ]
    }
   ],
   "source": [
    "history = train_model(num_epochs, model, train_dl, val_dl, loss_fn, opt_fn, lr)\n",
    "model, train_losses, val_losses, train_accuracies, val_accuracies = history"
   ]
  },
  {
   "cell_type": "markdown",
   "metadata": {},
   "source": [
    "## Plot loss and accuracy"
   ]
  },
  {
   "cell_type": "code",
   "execution_count": 35,
   "metadata": {},
   "outputs": [],
   "source": [
    "def plot_accuracy(train_accuracies, val_accuracies):\n",
    "    \"\"\"Plot accuracies\"\"\"\n",
    "    plt.plot(train_accuracies, \"-x\")\n",
    "    plt.plot(val_accuracies, \"-o\")\n",
    "    plt.xlabel(\"Epoch\")\n",
    "    plt.ylabel(\"Accuracy\")\n",
    "    plt.legend([\"Training\", \"Validation\"])\n",
    "    plt.title(\"Accuracy vs. No. of epochs\")"
   ]
  },
  {
   "cell_type": "code",
   "execution_count": 36,
   "metadata": {},
   "outputs": [
    {
     "data": {
      "image/png": "[encoded data removed]",
      "text/plain": [
       "<Figure size 640x480 with 1 Axes>"
      ]
     },
     "metadata": {},
     "output_type": "display_data"
    }
   ],
   "source": [
    "plot_accuracy(train_accuracies, val_accuracies)"
   ]
  },
  {
   "cell_type": "code",
   "execution_count": 37,
   "metadata": {},
   "outputs": [],
   "source": [
    "def plot_losses(train_losses, val_losses):\n",
    "    \"\"\"Plot losses\"\"\"\n",
    "    plt.plot(train_losses, \"-x\")\n",
    "    plt.plot(val_losses, \"-o\")\n",
    "    plt.xlabel(\"Epoch\")\n",
    "    plt.ylabel(\"Loss\")\n",
    "    plt.legend([\"Training\", \"Validation\"])\n",
    "    plt.title(\"Loss vs. No. of Epochs\")"
   ]
  },
  {
   "cell_type": "code",
   "execution_count": 38,
   "metadata": {},
   "outputs": [
    {
     "data": {
      "image/png": "[encoded data removed]",
      "text/plain": [
       "<Figure size 640x480 with 1 Axes>"
      ]
     },
     "metadata": {},
     "output_type": "display_data"
    }
   ],
   "source": [
    "plot_losses(train_losses, val_losses)"
   ]
  },
  {
   "cell_type": "markdown",
   "metadata": {},
   "source": [
    "## Train a model on the entire dataset"
   ]
  },
  {
   "cell_type": "code",
   "execution_count": 39,
   "metadata": {},
   "outputs": [],
   "source": [
    "indices, _ = split_indices(len(dataset), 0, rand_seed)\n",
    "\n",
    "sampler = SubsetRandomSampler(indices)\n",
    "dl = DataLoader(dataset, batch_size, sampler=sampler)\n",
    "dl = DeviceDataLoader(dl, device)"
   ]
  },
  {
   "cell_type": "markdown",
   "metadata": {},
   "source": [
    "**Set the maximum number of training epochs and the learning rate for finetuning your model.**"
   ]
  },
  {
   "cell_type": "code",
   "execution_count": 40,
   "metadata": {},
   "outputs": [],
   "source": [
    "# For final training on the full dataset\n",
    "num_epochs = 15  # Increased from 10 to 15 for better convergence\n",
    "lr = 0.001  # Maintain the same learning rate as it was effective in previous training\n"
   ]
  },
  {
   "cell_type": "code",
   "execution_count": 41,
   "metadata": {},
   "outputs": [
    {
     "name": "stdout",
     "output_type": "stream",
     "text": [
      "Epoch: 1/15, Batch: 0/938, Loss: 0.3149\n",
      "Epoch: 1/15, Batch: 100/938, Loss: 0.2238\n",
      "Epoch: 1/15, Batch: 200/938, Loss: 0.2612\n",
      "Epoch: 1/15, Batch: 300/938, Loss: 0.5824\n",
      "Epoch: 1/15, Batch: 400/938, Loss: 0.4169\n",
      "Epoch: 1/15, Batch: 500/938, Loss: 0.3996\n",
      "Epoch: 1/15, Batch: 600/938, Loss: 0.3777\n",
      "Epoch: 1/15, Batch: 700/938, Loss: 0.3292\n",
      "Epoch: 1/15, Batch: 800/938, Loss: 0.2829\n",
      "Epoch: 1/15, Batch: 900/938, Loss: 0.5688\n",
      "Epoch 1/15, Train Loss: 0.3745, Train Acc: 0.8569\n",
      "Epoch: 2/15, Batch: 0/938, Loss: 0.2678\n",
      "Epoch: 2/15, Batch: 100/938, Loss: 0.3784\n",
      "Epoch: 2/15, Batch: 200/938, Loss: 0.2788\n",
      "Epoch: 2/15, Batch: 300/938, Loss: 0.4844\n",
      "Epoch: 2/15, Batch: 400/938, Loss: 0.4752\n",
      "Epoch: 2/15, Batch: 500/938, Loss: 0.5075\n",
      "Epoch: 2/15, Batch: 600/938, Loss: 0.4028\n",
      "Epoch: 2/15, Batch: 700/938, Loss: 0.3500\n",
      "Epoch: 2/15, Batch: 800/938, Loss: 0.4372\n",
      "Epoch: 2/15, Batch: 900/938, Loss: 0.4547\n",
      "Epoch 2/15, Train Loss: 0.3623, Train Acc: 0.8609\n",
      "Epoch: 3/15, Batch: 0/938, Loss: 0.3187\n",
      "Epoch: 3/15, Batch: 100/938, Loss: 0.3581\n",
      "Epoch: 3/15, Batch: 200/938, Loss: 0.2211\n",
      "Epoch: 3/15, Batch: 300/938, Loss: 0.3200\n",
      "Epoch: 3/15, Batch: 400/938, Loss: 0.5123\n",
      "Epoch: 3/15, Batch: 500/938, Loss: 0.3663\n",
      "Epoch: 3/15, Batch: 600/938, Loss: 0.2823\n",
      "Epoch: 3/15, Batch: 700/938, Loss: 0.4016\n",
      "Epoch: 3/15, Batch: 800/938, Loss: 0.2474\n",
      "Epoch: 3/15, Batch: 900/938, Loss: 0.4137\n",
      "Epoch 3/15, Train Loss: 0.3447, Train Acc: 0.8688\n",
      "Epoch: 4/15, Batch: 0/938, Loss: 0.2812\n",
      "Epoch: 4/15, Batch: 100/938, Loss: 0.4247\n",
      "Epoch: 4/15, Batch: 200/938, Loss: 0.2988\n",
      "Epoch: 4/15, Batch: 300/938, Loss: 0.2612\n",
      "Epoch: 4/15, Batch: 400/938, Loss: 0.3391\n",
      "Epoch: 4/15, Batch: 500/938, Loss: 0.2543\n",
      "Epoch: 4/15, Batch: 600/938, Loss: 0.3558\n",
      "Epoch: 4/15, Batch: 700/938, Loss: 0.2113\n",
      "Epoch: 4/15, Batch: 800/938, Loss: 0.5803\n",
      "Epoch: 4/15, Batch: 900/938, Loss: 0.4973\n",
      "Epoch 4/15, Train Loss: 0.3354, Train Acc: 0.8750\n",
      "Epoch: 5/15, Batch: 0/938, Loss: 0.3548\n",
      "Epoch: 5/15, Batch: 100/938, Loss: 0.2423\n",
      "Epoch: 5/15, Batch: 200/938, Loss: 0.3646\n",
      "Epoch: 5/15, Batch: 300/938, Loss: 0.1911\n",
      "Epoch: 5/15, Batch: 400/938, Loss: 0.2589\n",
      "Epoch: 5/15, Batch: 500/938, Loss: 0.3211\n",
      "Epoch: 5/15, Batch: 600/938, Loss: 0.2076\n",
      "Epoch: 5/15, Batch: 700/938, Loss: 0.2557\n",
      "Epoch: 5/15, Batch: 800/938, Loss: 0.4110\n",
      "Epoch: 5/15, Batch: 900/938, Loss: 0.3380\n",
      "Epoch 5/15, Train Loss: 0.3276, Train Acc: 0.8769\n",
      "Epoch: 6/15, Batch: 0/938, Loss: 0.2270\n",
      "Epoch: 6/15, Batch: 100/938, Loss: 0.3094\n",
      "Epoch: 6/15, Batch: 200/938, Loss: 0.3613\n",
      "Epoch: 6/15, Batch: 300/938, Loss: 0.4174\n",
      "Epoch: 6/15, Batch: 400/938, Loss: 0.4055\n",
      "Epoch: 6/15, Batch: 500/938, Loss: 0.2935\n",
      "Epoch: 6/15, Batch: 600/938, Loss: 0.2257\n",
      "Epoch: 6/15, Batch: 700/938, Loss: 0.2435\n",
      "Epoch: 6/15, Batch: 800/938, Loss: 0.2455\n",
      "Epoch: 6/15, Batch: 900/938, Loss: 0.3271\n",
      "Epoch 6/15, Train Loss: 0.3235, Train Acc: 0.8773\n",
      "Epoch: 7/15, Batch: 0/938, Loss: 0.4811\n",
      "Epoch: 7/15, Batch: 100/938, Loss: 0.2375\n",
      "Epoch: 7/15, Batch: 200/938, Loss: 0.3122\n",
      "Epoch: 7/15, Batch: 300/938, Loss: 0.1948\n",
      "Epoch: 7/15, Batch: 400/938, Loss: 0.2648\n",
      "Epoch: 7/15, Batch: 500/938, Loss: 0.2197\n",
      "Epoch: 7/15, Batch: 600/938, Loss: 0.3354\n",
      "Epoch: 7/15, Batch: 700/938, Loss: 0.4398\n",
      "Epoch: 7/15, Batch: 800/938, Loss: 0.2080\n",
      "Epoch: 7/15, Batch: 900/938, Loss: 0.1889\n",
      "Epoch 7/15, Train Loss: 0.3134, Train Acc: 0.8802\n",
      "Epoch: 8/15, Batch: 0/938, Loss: 0.4033\n",
      "Epoch: 8/15, Batch: 100/938, Loss: 0.3862\n",
      "Epoch: 8/15, Batch: 200/938, Loss: 0.3437\n",
      "Epoch: 8/15, Batch: 300/938, Loss: 0.1960\n",
      "Epoch: 8/15, Batch: 400/938, Loss: 0.3024\n",
      "Epoch: 8/15, Batch: 500/938, Loss: 0.2061\n",
      "Epoch: 8/15, Batch: 600/938, Loss: 0.4126\n",
      "Epoch: 8/15, Batch: 700/938, Loss: 0.2036\n",
      "Epoch: 8/15, Batch: 800/938, Loss: 0.3553\n",
      "Epoch: 8/15, Batch: 900/938, Loss: 0.5620\n",
      "Epoch 8/15, Train Loss: 0.3049, Train Acc: 0.8827\n",
      "Epoch: 9/15, Batch: 0/938, Loss: 0.2298\n",
      "Epoch: 9/15, Batch: 100/938, Loss: 0.3481\n",
      "Epoch: 9/15, Batch: 200/938, Loss: 0.1775\n",
      "Epoch: 9/15, Batch: 300/938, Loss: 0.2317\n",
      "Epoch: 9/15, Batch: 400/938, Loss: 0.3120\n",
      "Epoch: 9/15, Batch: 500/938, Loss: 0.3873\n",
      "Epoch: 9/15, Batch: 600/938, Loss: 0.2975\n",
      "Epoch: 9/15, Batch: 700/938, Loss: 0.3756\n",
      "Epoch: 9/15, Batch: 800/938, Loss: 0.2929\n",
      "Epoch: 9/15, Batch: 900/938, Loss: 0.3330\n",
      "Epoch 9/15, Train Loss: 0.2981, Train Acc: 0.8866\n",
      "Epoch: 10/15, Batch: 0/938, Loss: 0.3715\n",
      "Epoch: 10/15, Batch: 100/938, Loss: 0.3772\n",
      "Epoch: 10/15, Batch: 200/938, Loss: 0.2333\n",
      "Epoch: 10/15, Batch: 300/938, Loss: 0.2683\n",
      "Epoch: 10/15, Batch: 400/938, Loss: 0.2522\n",
      "Epoch: 10/15, Batch: 500/938, Loss: 0.2224\n",
      "Epoch: 10/15, Batch: 600/938, Loss: 0.2724\n",
      "Epoch: 10/15, Batch: 700/938, Loss: 0.5812\n",
      "Epoch: 10/15, Batch: 800/938, Loss: 0.1942\n",
      "Epoch: 10/15, Batch: 900/938, Loss: 0.2943\n",
      "Epoch 10/15, Train Loss: 0.2911, Train Acc: 0.8908\n",
      "Epoch: 11/15, Batch: 0/938, Loss: 0.3243\n",
      "Epoch: 11/15, Batch: 100/938, Loss: 0.1997\n",
      "Epoch: 11/15, Batch: 200/938, Loss: 0.2326\n",
      "Epoch: 11/15, Batch: 300/938, Loss: 0.2631\n",
      "Epoch: 11/15, Batch: 400/938, Loss: 0.2524\n",
      "Epoch: 11/15, Batch: 500/938, Loss: 0.4095\n",
      "Epoch: 11/15, Batch: 600/938, Loss: 0.2419\n",
      "Epoch: 11/15, Batch: 700/938, Loss: 0.3694\n",
      "Epoch: 11/15, Batch: 800/938, Loss: 0.2937\n",
      "Epoch: 11/15, Batch: 900/938, Loss: 0.3507\n",
      "Epoch 11/15, Train Loss: 0.2831, Train Acc: 0.8924\n",
      "Epoch: 12/15, Batch: 0/938, Loss: 0.2126\n",
      "Epoch: 12/15, Batch: 100/938, Loss: 0.1376\n",
      "Epoch: 12/15, Batch: 200/938, Loss: 0.2524\n",
      "Epoch: 12/15, Batch: 300/938, Loss: 0.2756\n",
      "Epoch: 12/15, Batch: 400/938, Loss: 0.2545\n",
      "Epoch: 12/15, Batch: 500/938, Loss: 0.2321\n",
      "Epoch: 12/15, Batch: 600/938, Loss: 0.2486\n",
      "Epoch: 12/15, Batch: 700/938, Loss: 0.3324\n",
      "Epoch: 12/15, Batch: 800/938, Loss: 0.2061\n",
      "Epoch: 12/15, Batch: 900/938, Loss: 0.3269\n",
      "Epoch 12/15, Train Loss: 0.2756, Train Acc: 0.8959\n",
      "Epoch: 13/15, Batch: 0/938, Loss: 0.2557\n",
      "Epoch: 13/15, Batch: 100/938, Loss: 0.2493\n",
      "Epoch: 13/15, Batch: 200/938, Loss: 0.2012\n",
      "Epoch: 13/15, Batch: 300/938, Loss: 0.1542\n",
      "Epoch: 13/15, Batch: 400/938, Loss: 0.1991\n",
      "Epoch: 13/15, Batch: 500/938, Loss: 0.5044\n",
      "Epoch: 13/15, Batch: 600/938, Loss: 0.1799\n",
      "Epoch: 13/15, Batch: 700/938, Loss: 0.1552\n",
      "Epoch: 13/15, Batch: 800/938, Loss: 0.2061\n",
      "Epoch: 13/15, Batch: 900/938, Loss: 0.1784\n",
      "Epoch 13/15, Train Loss: 0.2730, Train Acc: 0.8949\n",
      "Epoch: 14/15, Batch: 0/938, Loss: 0.1877\n",
      "Epoch: 14/15, Batch: 100/938, Loss: 0.2959\n",
      "Epoch: 14/15, Batch: 200/938, Loss: 0.3914\n",
      "Epoch: 14/15, Batch: 300/938, Loss: 0.3541\n",
      "Epoch: 14/15, Batch: 400/938, Loss: 0.3192\n",
      "Epoch: 14/15, Batch: 500/938, Loss: 0.1972\n",
      "Epoch: 14/15, Batch: 600/938, Loss: 0.2817\n",
      "Epoch: 14/15, Batch: 700/938, Loss: 0.2539\n",
      "Epoch: 14/15, Batch: 800/938, Loss: 0.2635\n",
      "Epoch: 14/15, Batch: 900/938, Loss: 0.2593\n",
      "Epoch 14/15, Train Loss: 0.2697, Train Acc: 0.8975\n",
      "Epoch: 15/15, Batch: 0/938, Loss: 0.2255\n",
      "Epoch: 15/15, Batch: 100/938, Loss: 0.2404\n",
      "Epoch: 15/15, Batch: 200/938, Loss: 0.3253\n",
      "Epoch: 15/15, Batch: 300/938, Loss: 0.1418\n",
      "Epoch: 15/15, Batch: 400/938, Loss: 0.1864\n",
      "Epoch: 15/15, Batch: 500/938, Loss: 0.2514\n",
      "Epoch: 15/15, Batch: 600/938, Loss: 0.1878\n",
      "Epoch: 15/15, Batch: 700/938, Loss: 0.2495\n",
      "Epoch: 15/15, Batch: 800/938, Loss: 0.1484\n",
      "Epoch: 15/15, Batch: 900/938, Loss: 0.1735\n",
      "Epoch 15/15, Train Loss: 0.2666, Train Acc: 0.8979\n"
     ]
    }
   ],
   "source": [
    "history = train_model(num_epochs, model, dl, [], loss_fn, opt_fn, lr)\n",
    "model = history[0]"
   ]
  },
  {
   "cell_type": "markdown",
   "metadata": {},
   "source": [
    "## Check Predictions"
   ]
  },
  {
   "cell_type": "code",
   "execution_count": 42,
   "metadata": {},
   "outputs": [],
   "source": [
    "def view_prediction(img, label, probs, classes):\n",
    "    \"\"\"\n",
    "    Visualize predictions.\n",
    "    \"\"\"\n",
    "    probs = probs.cpu().numpy().squeeze()\n",
    "\n",
    "    fig, (ax1, ax2) = plt.subplots(figsize=(8,15), ncols=2)\n",
    "    ax1.imshow(img.resize_(1, 28, 28).cpu().numpy().squeeze(), cmap='Greys_r')\n",
    "    ax1.axis('off')\n",
    "    ax1.set_title('Actual: {}'.format(classes[label]))\n",
    "    ax2.barh(np.arange(10), probs)\n",
    "    ax2.set_aspect(0.1)\n",
    "    ax2.set_yticks(np.arange(10))\n",
    "    ax2.set_yticklabels(classes, size='small');\n",
    "    ax2.set_title('Predicted: probabilities')\n",
    "    ax2.set_xlim(0, 1.1)\n",
    "\n",
    "    plt.tight_layout()"
   ]
  },
  {
   "cell_type": "code",
   "execution_count": 43,
   "metadata": {},
   "outputs": [
    {
     "data": {
      "image/png": "[encoded data removed]",
      "text/plain": [
       "<Figure size 800x1500 with 2 Axes>"
      ]
     },
     "metadata": {},
     "output_type": "display_data"
    }
   ],
   "source": [
    "# Calculate the class probabilites (log softmax) for img\n",
    "images = iter(dl)\n",
    "for imgs, labels in images:\n",
    "    with torch.no_grad():\n",
    "        model.eval()\n",
    "        # Calculate the class probabilites (log softmax) for img\n",
    "        probs = torch.nn.functional.softmax(model(imgs[0].unsqueeze(0)), dim=1)\n",
    "        # Plot the image and probabilites\n",
    "        view_prediction(imgs[0], labels[0], probs, dataset.classes)\n",
    "    break"
   ]
  },
  {
   "cell_type": "markdown",
   "metadata": {},
   "source": [
    "## Save the model"
   ]
  },
  {
   "cell_type": "code",
   "execution_count": 44,
   "metadata": {},
   "outputs": [],
   "source": [
    "# Very important\n",
    "torch.save(model, 'model')"
   ]
  },
  {
   "cell_type": "markdown",
   "metadata": {},
   "source": [
    "## Question 4 (10 points)\n",
    "\n",
    "## Compute accuracy on the test set"
   ]
  },
  {
   "cell_type": "code",
   "execution_count": 45,
   "metadata": {},
   "outputs": [],
   "source": [
    "test_dataset = FashionMNIST('MNIST_data/', download = True, train = False, transform = transform)"
   ]
  },
  {
   "cell_type": "code",
   "execution_count": 46,
   "metadata": {},
   "outputs": [],
   "source": [
    "test_dl = DataLoader(test_dataset, batch_size)\n",
    "test_dl = DeviceDataLoader(test_dl, device)"
   ]
  },
  {
   "cell_type": "code",
   "execution_count": 47,
   "metadata": {},
   "outputs": [],
   "source": [
    "def evaluate(model, test_dl):\n",
    "    \"\"\"\n",
    "    Evaluates your model on the test data.\n",
    "    \n",
    "    Args:\n",
    "        model: ImageClassifierNet object\n",
    "        test_dl: test dataloader\n",
    "    \n",
    "    Returns: \n",
    "        Test accuracy.\n",
    "    \"\"\"\n",
    "    model.eval()  # Set the model to evaluation mode\n",
    "    correct = 0\n",
    "    total = 0\n",
    "    \n",
    "    with torch.no_grad():  # Disable gradient computation\n",
    "        for images, labels in test_dl:\n",
    "            # Forward pass\n",
    "            outputs = model(images)\n",
    "            \n",
    "            # Get predictions\n",
    "            _, predicted = outputs.max(1)\n",
    "            \n",
    "            # Count correct predictions\n",
    "            total += labels.size(0)\n",
    "            correct += predicted.eq(labels).sum().item()\n",
    "    \n",
    "    # Calculate and return accuracy\n",
    "    accuracy = correct / total\n",
    "    return accuracy"
   ]
  },
  {
   "cell_type": "code",
   "execution_count": 48,
   "metadata": {},
   "outputs": [
    {
     "name": "stdout",
     "output_type": "stream",
     "text": [
      "Test Accuracy = 0.9118\n"
     ]
    }
   ],
   "source": [
    "print(\"Test Accuracy = {:.4f}\".format(evaluate(model, test_dl)))"
   ]
  },
  {
   "cell_type": "markdown",
   "metadata": {},
   "source": [
    "## Tips to increase the test accuracy\n",
    "\n",
    "- **Data augmentation:** Diversifies your training set and leads to better generalization\n",
    "    - Flipping\n",
    "    - Rotation\n",
    "    - Shifting\n",
    "    - Cropping\n",
    "    - Adding noise\n",
    "    - Blurring\n",
    "    \n",
    "- **Regularization:** Reduces overfitting on the training set\n",
    "    - Early stopping\n",
    "    - Dropout\n",
    "    - $l_2$ regularization\n",
    "    - Batch normalization\n",
    "\n",
    "- **Hyperparameter tuning:**\n",
    "    - Weight initialization\n",
    "    - Learning rate\n",
    "    - Activation functions\n",
    "    - Optimizers"
   ]
  }
 ],
 "metadata": {
  "kernelspec": {
   "display_name": "tf",
   "language": "python",
   "name": "python3"
  },
  "language_info": {
   "codemirror_mode": {
    "name": "ipython",
    "version": 3
   },
   "file_extension": ".py",
   "mimetype": "text/x-python",
   "name": "python",
   "nbconvert_exporter": "python",
   "pygments_lexer": "ipython3",
   "version": "3.11.5"
  }
 },
 "nbformat": 4,
 "nbformat_minor": 4
}
