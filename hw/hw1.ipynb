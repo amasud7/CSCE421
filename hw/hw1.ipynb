{
  "metadata": {
    "kernelspec": {
      "name": "python",
      "display_name": "Python (Pyodide)",
      "language": "python"
    },
    "language_info": {
      "codemirror_mode": {
        "name": "python",
        "version": 3
      },
      "file_extension": ".py",
      "mimetype": "text/x-python",
      "name": "python",
      "nbconvert_exporter": "python",
      "pygments_lexer": "ipython3",
      "version": "3.8"
    },
    "colab": {
      "name": "pa0_intro_to_python.ipynb",
      "provenance": [],
      "collapsed_sections": [
        "9f7c5978",
        "6be8fe6d",
        "7e8ead58",
        "cd8ff4f9",
        "676a062c",
        "936fb3bc",
        "1d9d8114",
        "c465de2a",
        "b68b65f8",
        "466270e6",
        "b26b0d55",
        "c5452f65"
      ]
    }
  },
  "nbformat_minor": 5,
  "nbformat": 4,
  "cells": [
    {
      "id": "06e1229e-05ee-48e5-9a08-39cd902b63f1",
      "cell_type": "markdown",
      "source": "# CSCE 421 :: Machine Learning :: Texas A&M University \n\n# Programming Assignment\n**Name:**  \n**UIN:**  ",
      "metadata": {
        "id": "882ab14f"
      }
    },
    {
      "id": "2e6f61f4",
      "cell_type": "markdown",
      "source": "# Python Warmup\n- **100 points**\n\nThis assignment tests the basics of Python, NumPy, and Pandas. They are the bread and butter for implementing machine learning algorithms. Hence, it is expected that you should be able to complete this assignment without breaking a lot of sweat. The level of difficulty of the questions varies between easy and medium. So, in case you are unfamiliar with NumPy and Pandas, they should provide you with a nice platform to get up to speed.  \n\nThe assignment consists of 15 coding questions. You are required to complete the functions defined in the code blocks following each question.  You only need to fill out sections of the code marked `\"YOUR CODE HERE\"`. There are a few test cases defined for each question which you may use to verify your implementation. Do **NOT** modify these test cases since we will use them to grade your solutions. Once you've filled out your solutions, submit the notebook on Canvas (see the instructions on Submission). Do **NOT** forget to type in your name and UIN at the beginning of the notebook.",
      "metadata": {
        "id": "2e6f61f4"
      }
    },
    {
      "id": "a14dfd16",
      "cell_type": "markdown",
      "source": "## Tutorial on Jupyter Notebooks\n\nIf you are new to jupyter notebooks, you can find more information on how to use them [here](https://realpython.com/jupyter-notebook-introduction/).",
      "metadata": {
        "id": "a14dfd16"
      }
    },
    {
      "id": "2043b5a2",
      "cell_type": "markdown",
      "source": "## Python Basics",
      "metadata": {
        "id": "2043b5a2"
      }
    },
    {
      "id": "4da92ed3",
      "cell_type": "markdown",
      "source": "### Question 1 (5 points)\n**Complete the function `str_cmp` to return `True` if two strings are the same irrespective of lowercase/uppercase and whitespaces. Else, return `False`.**",
      "metadata": {
        "id": "4da92ed3"
      }
    },
    {
      "id": "35a5617a",
      "cell_type": "code",
      "source": "def str_cmp(str_1, str_2):\n    # YOUR CODE HERE\n    \n    ",
      "metadata": {
        "id": "35a5617a"
      },
      "outputs": [],
      "execution_count": null
    },
    {
      "id": "de42b747",
      "cell_type": "code",
      "source": "# TEST CASES -- DO NOT MODIFY\n\n# Test Case 1\nassert str_cmp(\"csce\", \"csce\") == True, \"Failed test case 1\"\nprint(\"Passed test case 1\\n\" + \"=\"*20)\n\n# Test Case 2\nassert str_cmp(\"csce\", \"csce412\") == False, \"Failed test case 2\"\nprint(\"Passed test case 2\\n\" + \"=\"*20)\n\n# Test Case 3\nassert str_cmp(\"MaChine LeArnIng\", \"machine learning\") == True, \"Failed test case 3\"\nprint(\"Passed test case 3\\n\" + \"=\"*20)\n\n# Test Case 4\nassert str_cmp(\"Machine Learning!\", \"Machine Learning\") == False, \"Failed test case 4\"\nprint(\"Passed test case 4\\n\" + \"=\"*20)\n\n# Test Case 5\nassert str_cmp(\"  Machine Learning\", \"machine    Learning \") == True, \"Failed test case 5\"\nprint(\"Passed test case 5\\n\" + \"=\"*20)\n\nprint(\"*\"*29 + \"\\n**  PASSED ALL TEST CASES  **\\n\" + \"*\"*29)",
      "metadata": {
        "id": "de42b747"
      },
      "outputs": [],
      "execution_count": null
    },
    {
      "id": "538dfd1a",
      "cell_type": "markdown",
      "source": "### Question 2 (5 points)\n**Complete the function `power_list` in which each element is raised by its index to create a new list. Return the sum of the elements of the new list.**  \n\nExample:  \ngiven list: [1, 2, 3, 4]  \nnew list: [1, 2, 9, 64]  \nsum of the elements of new list: 76",
      "metadata": {
        "id": "538dfd1a"
      }
    },
    {
      "id": "e103a1ec",
      "cell_type": "code",
      "source": "def power_list(arr):\n    ## YOUR CODE HERE\n    \n    ",
      "metadata": {
        "id": "e103a1ec"
      },
      "outputs": [],
      "execution_count": null
    },
    {
      "id": "945f921a",
      "cell_type": "code",
      "source": "# TEST CASES -- DO NOT MODIFY\n\n# Test Case 1\nassert power_list([i for i in range(5)]) == 289, \"Failed test case 1\"\nprint(\"Passed test case 1\\n\" + \"=\"*20)\n\n# Test Case 2\nassert power_list([-i for i in range(10, -1, -1)]) == 48, \"Failed test case 2\"\nprint(\"Passed test case 2\\n\" + \"=\"*20)\n\nprint(\"*\"*29 + \"\\n**  PASSED ALL TEST CASES  **\\n\" + \"*\"*29)",
      "metadata": {
        "id": "945f921a"
      },
      "outputs": [],
      "execution_count": null
    },
    {
      "id": "bf2cfd31",
      "cell_type": "markdown",
      "source": "### Question 3 (10 points)\n**Complete the function `create_stats` that returns the mean and median values of the values arranged in a nested list.**",
      "metadata": {
        "id": "bf2cfd31"
      }
    },
    {
      "id": "663e8d08",
      "cell_type": "code",
      "source": "def create_stats(universities):\n    \"\"\"\n    Return a tuple of (mean students enrolled, median students enrolled, mean tuition, median tuition)\n    Return a tuple of (mean cars sold, median cars sold, mean MSRP, median MSRP)\n    \"\"\"\n    \n    # YOUR CODE HERE\n    \n    ",
      "metadata": {
        "id": "663e8d08"
      },
      "outputs": [],
      "execution_count": null
    },
    {
      "id": "cef665e2",
      "cell_type": "code",
      "source": "# TEST CASES -- DO NOT MODIFY\n\n# [[university name, students enrolled, tuition]]\nuniversities = [\n    [\"Harvard\", 19627, 39849],\n    [\"Massachusetts Institute of Technology\", 10566, 40732],\n    [\"Princeton\", 7806, 37000],\n    [\"Rice\", 5870, 35551],\n    [\"Stanford\", 19539, 40569],\n    [\"Yale\", 11706, 40500],\n]\n\n# [[model, cars sold, MSRP]]\ncars = [\n    [\"Ford F-series\", 52314, 35000],\n    [\"Toyota RAV4\", 41145, 30000],\n    [\"Honda CR-V\", 31530, 32000],\n    [\"Toyota Camry\", 32959, 28000],\n    [\"Honda Civic\", 28318, 23000]\n]\n\n# Test Case 1\nassert create_stats(universities) == (12519.0, 11136.0, 39033.5, 40174.5), \"Failed test case 1\"\nprint(\"Passed test case 1\\n\" + \"=\"*20)\n\n# Test Case 2\nassert create_stats(cars) == (37253.2, 32959, 29600.0, 30000), \"Failed test case 2\"\nprint(\"Passed test case 2\\n\" + \"=\"*20)\n\nprint(\"*\"*29 + \"\\n**  PASSED ALL TEST CASES  **\\n\" + \"*\"*29)",
      "metadata": {
        "id": "cef665e2"
      },
      "outputs": [],
      "execution_count": null
    },
    {
      "id": "f518dfb5",
      "cell_type": "markdown",
      "source": "# NumPy Basics",
      "metadata": {
        "id": "f518dfb5"
      }
    },
    {
      "id": "58b94afd",
      "cell_type": "code",
      "source": "import numpy as np",
      "metadata": {
        "id": "58b94afd"
      },
      "outputs": [],
      "execution_count": null
    },
    {
      "id": "9f7c5978",
      "cell_type": "markdown",
      "source": "### Question 4 (5 points)\n**Complete the function `matrix_reshape` to reshape a matrix to the target dimensions given by `n_rows` and `n_cols`.**",
      "metadata": {
        "id": "9f7c5978"
      }
    },
    {
      "id": "7b2ee854",
      "cell_type": "code",
      "source": "def matrix_reshape(mat, n_rows, n_cols):\n    # YOUR CODE HERE\n    \n    ",
      "metadata": {
        "id": "7b2ee854",
        "executionInfo": {
          "status": "error",
          "timestamp": 1642619112455,
          "user_tz": 360,
          "elapsed": 16,
          "user": {
            "displayName": "Sumedh Pendurkar",
            "photoUrl": "https://lh3.googleusercontent.com/a-/AOh14GhzwPTIBSaSq42g50egd5zPO_EauWTfuYbzeNGz=s64",
            "userId": "05215513594680154534"
          }
        },
        "outputId": "e9490555-c43d-4e76-98f8-bb51ec16f6ff",
        "colab": {
          "base_uri": "https://localhost:8080/",
          "height": 130
        }
      },
      "outputs": [
        {
          "output_type": "error",
          "ename": "SyntaxError",
          "evalue": "ignored",
          "traceback": [
            "\u001b[0;36m  File \u001b[0;32m\"<ipython-input-1-2b49c56a8332>\"\u001b[0;36m, line \u001b[0;32m4\u001b[0m\n\u001b[0;31m    \u001b[0m\n\u001b[0m    ^\u001b[0m\n\u001b[0;31mSyntaxError\u001b[0m\u001b[0;31m:\u001b[0m unexpected EOF while parsing\n"
          ]
        }
      ],
      "execution_count": 1
    },
    {
      "id": "009922e4",
      "cell_type": "code",
      "source": "# TEST CASES -- DO NOT MODIFY\n\nA = np.array([\n    [3, -4, 2, 9],\n    [6, 1, -5, 2],\n    [-7, 8, -1, 6]\n])\n\n# Test Case 1\nassert (matrix_reshape(np.arange(15), 3, 5) == np.array([[ 0,  1,  2,  3,  4], [ 5,  6,  7,  8,  9], \n                                                            [10, 11, 12, 13, 14]])).all(), \"Failed test case 1\"\nprint(\"Passed test case 1\\n\" + \"=\"*20)\n\n# Test Case 2\nassert (matrix_reshape(A, 2, 6) == np.array([[ 3, -4,  2,  9,  6,  1],\n       [-5,  2, -7,  8, -1,  6]])).all(), \"Failed test case 2\"\nprint(\"Passed test case 2\\n\" + \"=\"*20)\n\nprint(\"*\"*29 + \"\\n**  PASSED ALL TEST CASES  **\\n\" + \"*\"*29)",
      "metadata": {
        "id": "009922e4",
        "executionInfo": {
          "status": "error",
          "timestamp": 1642619112717,
          "user_tz": 360,
          "elapsed": 270,
          "user": {
            "displayName": "Sumedh Pendurkar",
            "photoUrl": "https://lh3.googleusercontent.com/a-/AOh14GhzwPTIBSaSq42g50egd5zPO_EauWTfuYbzeNGz=s64",
            "userId": "05215513594680154534"
          }
        },
        "outputId": "b0688adb-5bda-441f-957b-fff8339f014d",
        "colab": {
          "base_uri": "https://localhost:8080/",
          "height": 235
        }
      },
      "outputs": [
        {
          "output_type": "error",
          "ename": "NameError",
          "evalue": "ignored",
          "traceback": [
            "\u001b[0;31m---------------------------------------------------------------------------\u001b[0m",
            "\u001b[0;31mNameError\u001b[0m                                 Traceback (most recent call last)",
            "\u001b[0;32m<ipython-input-2-391e7e023883>\u001b[0m in \u001b[0;36m<module>\u001b[0;34m()\u001b[0m\n\u001b[1;32m      1\u001b[0m \u001b[0;31m# TEST CASES -- DO NOT MODIFY\u001b[0m\u001b[0;34m\u001b[0m\u001b[0;34m\u001b[0m\u001b[0;34m\u001b[0m\u001b[0m\n\u001b[1;32m      2\u001b[0m \u001b[0;34m\u001b[0m\u001b[0m\n\u001b[0;32m----> 3\u001b[0;31m A = np.array([\n\u001b[0m\u001b[1;32m      4\u001b[0m     \u001b[0;34m[\u001b[0m\u001b[0;36m3\u001b[0m\u001b[0;34m,\u001b[0m \u001b[0;34m-\u001b[0m\u001b[0;36m4\u001b[0m\u001b[0;34m,\u001b[0m \u001b[0;36m2\u001b[0m\u001b[0;34m,\u001b[0m \u001b[0;36m9\u001b[0m\u001b[0;34m]\u001b[0m\u001b[0;34m,\u001b[0m\u001b[0;34m\u001b[0m\u001b[0;34m\u001b[0m\u001b[0m\n\u001b[1;32m      5\u001b[0m     \u001b[0;34m[\u001b[0m\u001b[0;36m6\u001b[0m\u001b[0;34m,\u001b[0m \u001b[0;36m1\u001b[0m\u001b[0;34m,\u001b[0m \u001b[0;34m-\u001b[0m\u001b[0;36m5\u001b[0m\u001b[0;34m,\u001b[0m \u001b[0;36m2\u001b[0m\u001b[0;34m]\u001b[0m\u001b[0;34m,\u001b[0m\u001b[0;34m\u001b[0m\u001b[0;34m\u001b[0m\u001b[0m\n",
            "\u001b[0;31mNameError\u001b[0m: name 'np' is not defined"
          ]
        }
      ],
      "execution_count": 2
    },
    {
      "id": "6be8fe6d",
      "cell_type": "markdown",
      "source": "### Question 5 (5 points)\n**Complete the function `dot_product` that returns the dot product of two matrices. Dot product is also known as matrix multiplication.**",
      "metadata": {
        "id": "6be8fe6d"
      }
    },
    {
      "id": "477e0de2",
      "cell_type": "code",
      "source": "def dot_product(mat_1, mat_2):\n    # YOUR CODE HERE\n    \n    \n    ",
      "metadata": {
        "id": "477e0de2"
      },
      "outputs": [],
      "execution_count": null
    },
    {
      "id": "45463c9e",
      "cell_type": "code",
      "source": "# TEST CASES -- DO NOT MODIFY\n\nA = np.array([\n    [3, -4, 2, 9],\n    [6, 1, -5, 2],\n    [-7, 8, -1, 6]\n])\n\n# Test Case 1\nassert dot_product(A[0,:], A[1,:]) == 22, \"Failed test case 1\"\nprint(\"Passed test case 1\\n\" + \"=\"*20)\n\n# Test Case 2\nassert (dot_product(A[0,:], A.T) == np.array([110,  22,  -1])).all(), \"Failed test case 2\"\nprint(\"Passed test case 2\\n\" + \"=\"*20)\n\n# Test Case 3\nassert (dot_product(A, A.T) == np.array([[110,  22,  -1], [ 22,  66, -17], \n                                               [ -1, -17, 150]])).all(), \"Failed test case 3\"\nprint(\"Passed test case 3\\n\" + \"=\"*20)\n\nprint(\"*\"*29 + \"\\n**  PASSED ALL TEST CASES  **\\n\" + \"*\"*29)",
      "metadata": {
        "id": "45463c9e"
      },
      "outputs": [],
      "execution_count": null
    },
    {
      "id": "7e8ead58",
      "cell_type": "markdown",
      "source": "### Question 6 (5 points)\n**Complete the function `cross_product` that returns the cross product of two matrices.**",
      "metadata": {
        "id": "7e8ead58"
      }
    },
    {
      "id": "79123733",
      "cell_type": "code",
      "source": "def cross_product(mat_1, mat_2):\n    # YOUR CODE HERE\n    \n    \n    ",
      "metadata": {
        "id": "79123733"
      },
      "outputs": [],
      "execution_count": null
    },
    {
      "id": "5297b399",
      "cell_type": "code",
      "source": "# TEST CASES -- DO NOT MODIFY\n\nA = np.array([\n    [3, -4, 2, 9],\n    [6, 1, -5, 2],\n    [-7, 8, -1, 6]\n])\n\n# Test Case 1\nassert cross_product(A[0,:2], A[:2,1]) == -13, \"Failed test case 1\"\nprint(\"Passed test case 1\\n\" + \"=\"*20)\n\n# Test Case 2\nassert cross_product(A[:2,:2], A[2:,2:])[0] == 14, \"Failed test case 2\"\nprint(\"Passed test case 2\\n\" + \"=\"*20)\n\nprint(\"*\"*29 + \"\\n**  PASSED ALL TEST CASES  **\\n\" + \"*\"*29)",
      "metadata": {
        "id": "5297b399"
      },
      "outputs": [],
      "execution_count": null
    },
    {
      "id": "cd8ff4f9",
      "cell_type": "markdown",
      "source": "### Question 7 (5 points)\n**Complete the function `inverse` that computes the inverse of a matrix.**",
      "metadata": {
        "id": "cd8ff4f9"
      }
    },
    {
      "id": "f6602906",
      "cell_type": "code",
      "source": "def inverse(mat):\n    # YOUR CODE HERE\n    \n    ",
      "metadata": {
        "id": "f6602906"
      },
      "outputs": [],
      "execution_count": null
    },
    {
      "id": "ae2d0a7e",
      "cell_type": "code",
      "source": "# TEST CASES -- DO NOT MODIFY\n\nA = np.array([\n    [6, 1, 1],\n    [4, -2, 5],\n    [2, 8, 7]\n])\n\n# Test Case 1\nassert np.allclose(inverse(A), np.array([[ 0.17647059, -0.00326797, -0.02287582],\n       [ 0.05882353, -0.13071895,  0.08496732],\n       [-0.11764706,  0.1503268 ,  0.05228758]])), \"Failed test case 1\"\nprint(\"Passed test case 1\\n\" + \"=\"*20)\n\n# Test Case 2\nassert (inverse(A[:2,:2]) == np.array([[ 0.125 ,  0.0625],\n       [ 0.25  , -0.375 ]])).all(), \"Failed test case 2\"\nprint(\"Passed test case 2\\n\" + \"=\"*20)\n\nprint(\"*\"*29 + \"\\n**  PASSED ALL TEST CASES  **\\n\" + \"*\"*29)",
      "metadata": {
        "id": "ae2d0a7e"
      },
      "outputs": [],
      "execution_count": null
    },
    {
      "id": "676a062c",
      "cell_type": "markdown",
      "source": "### Question 8 (10 points)\n**Complete the function `subtract_mean` that subtracts the row-wise mean from each row of a matrix.**",
      "metadata": {
        "id": "676a062c"
      }
    },
    {
      "id": "d961fe24",
      "cell_type": "code",
      "source": "def subtract_mean(mat):\n    ## YOUR CODE HERE\n    \n    ",
      "metadata": {
        "id": "d961fe24"
      },
      "outputs": [],
      "execution_count": null
    },
    {
      "id": "2c022f5d",
      "cell_type": "code",
      "source": "A = np.array([\n    [3, -4, 2, 9],\n    [6, 1, -5, 2],\n    [-7, 8, -1, 6]\n])\n\n# Test Case 1\nassert (subtract_mean(np.arange(12).reshape(4,3)) == np.array([[-1.,  0.,  1.], [-1.,  0.,  1.],\n       [-1.,  0.,  1.], [-1.,  0.,  1.]])).all(), \"Failed test case 1\"\nprint(\"Passed test case 1\\n\" + \"=\"*20)\n\n# Test Case 2\nassert (subtract_mean(A) == np.array([[0.5, -6.5, -0.5,  6.5], [5. ,  0. , -6. ,  1. ], \n        [-8.5,  6.5, -2.5,  4.5]])).all(), \"Failed test case 2\"\nprint(\"Passed test case 2\\n\" + \"=\"*20)\n\nprint(\"*\"*29 + \"\\n**  PASSED ALL TEST CASES  **\\n\" + \"*\"*29)",
      "metadata": {
        "id": "2c022f5d"
      },
      "outputs": [],
      "execution_count": null
    },
    {
      "id": "936fb3bc",
      "cell_type": "markdown",
      "source": "### Question 9 (10 points)\n**Complete the function `moving_average` that computes averages over a sliding window of size `window_size` for a 1-D array.**",
      "metadata": {
        "id": "936fb3bc"
      }
    },
    {
      "id": "95012d0c",
      "cell_type": "code",
      "source": "def moving_average(arr, window_size):\n    # YOUR CODE HERE\n    \n    ",
      "metadata": {
        "id": "95012d0c"
      },
      "outputs": [],
      "execution_count": null
    },
    {
      "id": "463a46d1",
      "cell_type": "code",
      "source": "# Test Case 1\nassert (moving_average(np.arange(10), 3) == np.arange(8)+1).all(), \"Failed test case 1\"\nprint(\"Passed test case 1\\n\" + \"=\"*20)\n\n# Test Case 2\nassert (moving_average(np.array([-10, 5, 6, -4, 7, 9]), 2) == \n        np.array([-2.5, 5.5, 1, 1.5, 8])).all(), \"Failed test case 2\"\nprint(\"Passed test case 2\\n\" + \"=\"*20)\n\nprint(\"*\"*29 + \"\\n**  PASSED ALL TEST CASES  **\\n\" + \"*\"*29)",
      "metadata": {
        "id": "463a46d1"
      },
      "outputs": [],
      "execution_count": null
    },
    {
      "id": "9aa618f6",
      "cell_type": "markdown",
      "source": "# Pandas Basics",
      "metadata": {
        "id": "9aa618f6"
      }
    },
    {
      "id": "edd1866d",
      "cell_type": "code",
      "source": "import pandas as pd",
      "metadata": {
        "id": "edd1866d"
      },
      "outputs": [],
      "execution_count": null
    },
    {
      "id": "2395daa3",
      "cell_type": "markdown",
      "source": "The provided data contains flight delay information over a period of 3 days.\n\n**Data Description**    \n`From`: Source City  \n`To`: Destination City  \n`Flight Number`: Flight ID  \n`Delay_1`: Delay on Day 1  \n`Delay_2`: Delay on Day 2  \n`Delay_3`: Delay on Day 3  \n`Airline`: Carrier  ",
      "metadata": {
        "id": "2395daa3"
      }
    },
    {
      "id": "dc153bef",
      "cell_type": "code",
      "source": "data = {'From': ['London', 'Madrid', 'London', \n                   'Budapest', 'Brussels'],\n        'To': ['Paris', 'Milan', 'Stockholm', 'Paris', 'London'],\n        'FlightNumber': [10045, np.nan, 10065, np.nan, 10085],\n        'Delay_1': [23, np.nan, 24, 13, 67],\n        'Delay_2': [47, np.nan, 43, np.nan, 32],\n        'Delay_3': [np.nan, np.nan, 87, np.nan, np.nan],\n        'Airline': ['KLM', 'Air France', 'British Airways', \n                    'Air France', 'Swiss Air']}",
      "metadata": {
        "id": "dc153bef"
      },
      "outputs": [],
      "execution_count": null
    },
    {
      "id": "015629c8",
      "cell_type": "code",
      "source": "df = pd.DataFrame(data)",
      "metadata": {
        "id": "015629c8"
      },
      "outputs": [],
      "execution_count": null
    },
    {
      "id": "6822ed9f",
      "cell_type": "code",
      "source": "df.head()",
      "metadata": {
        "id": "6822ed9f"
      },
      "outputs": [],
      "execution_count": null
    },
    {
      "id": "1d9d8114",
      "cell_type": "markdown",
      "source": "### Question 10 (5 points)\n**Compute the number of unique cities in `df`.**",
      "metadata": {
        "id": "1d9d8114"
      }
    },
    {
      "id": "346c1a8a",
      "cell_type": "code",
      "source": "## YOUR CODE HERE\n\n",
      "metadata": {
        "id": "346c1a8a"
      },
      "outputs": [],
      "execution_count": null
    },
    {
      "id": "c465de2a",
      "cell_type": "markdown",
      "source": "### Question 11 (5 points)\n**Calculate the number of flights flying out of `London`.**",
      "metadata": {
        "id": "c465de2a"
      }
    },
    {
      "id": "8d9d5fe8",
      "cell_type": "code",
      "source": "## YOUR CODE HERE\n\n",
      "metadata": {
        "id": "8d9d5fe8"
      },
      "outputs": [],
      "execution_count": null
    },
    {
      "id": "b68b65f8",
      "cell_type": "markdown",
      "source": "### Question 12 (5 points)\n**Which cities are served by `Air France`?**",
      "metadata": {
        "id": "b68b65f8"
      }
    },
    {
      "id": "717d4485",
      "cell_type": "code",
      "source": "## YOUR CODE HERE\n\n",
      "metadata": {
        "id": "717d4485"
      },
      "outputs": [],
      "execution_count": null
    },
    {
      "id": "466270e6",
      "cell_type": "markdown",
      "source": "### Question 13 (5 points)\n**Calculate the total number of missing values (they are `NaN`) in `df`.**",
      "metadata": {
        "id": "466270e6"
      }
    },
    {
      "id": "2d8f4abd",
      "cell_type": "code",
      "source": "## YOUR CODE HERE\n\n",
      "metadata": {
        "id": "2d8f4abd"
      },
      "outputs": [],
      "execution_count": null
    },
    {
      "id": "b26b0d55",
      "cell_type": "markdown",
      "source": "### Question 14 (10 points)\n**Calculate the average delay (ignoring `NaN` values) for all the flights. Then modify `df` by replacing all the `NaN` values in `Delay_1`, `Delay_2`, and, `Delay_3` columns with the average delay.**",
      "metadata": {
        "id": "b26b0d55"
      }
    },
    {
      "id": "b0e6425c",
      "cell_type": "code",
      "source": "# YOUR CODE HERE\n\n",
      "metadata": {
        "id": "b0e6425c"
      },
      "outputs": [],
      "execution_count": null
    },
    {
      "id": "94c59963",
      "cell_type": "code",
      "source": "df.head()",
      "metadata": {
        "id": "94c59963"
      },
      "outputs": [],
      "execution_count": null
    },
    {
      "id": "c5452f65",
      "cell_type": "markdown",
      "source": "### Question 15 (10 points)\n**Some values in the the `FlightNumber` column are missing (`NaN`). These numbers are meant to increase by 10 with each row. So, the `FlightNumber` at row labels 1 and 3 should be 10055 and 10075 respectively. Modify `df` to fill in these missing numbers and make the column an integer column (instead of a float column).**",
      "metadata": {
        "id": "c5452f65"
      }
    },
    {
      "id": "cce26572",
      "cell_type": "code",
      "source": "## YOUR CODE HERE\n\n",
      "metadata": {
        "id": "cce26572"
      },
      "outputs": [],
      "execution_count": null
    },
    {
      "id": "7f581e05",
      "cell_type": "code",
      "source": "df.head()",
      "metadata": {
        "id": "7f581e05"
      },
      "outputs": [],
      "execution_count": null
    },
    {
      "id": "3b3dc16b",
      "cell_type": "code",
      "source": "df.info()",
      "metadata": {
        "id": "3b3dc16b"
      },
      "outputs": [],
      "execution_count": null
    },
    {
      "id": "60e14135",
      "cell_type": "code",
      "source": "",
      "metadata": {
        "id": "60e14135"
      },
      "outputs": [],
      "execution_count": null
    }
  ]
}